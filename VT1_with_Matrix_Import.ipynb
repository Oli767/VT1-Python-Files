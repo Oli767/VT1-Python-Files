{
 "cells": [
  {
   "cell_type": "markdown",
   "metadata": {},
   "source": [
    "# VT1"
   ]
  },
  {
   "cell_type": "markdown",
   "metadata": {},
   "source": [
    "This is the Script for the VT1 which shall fullfill the following tasks:\n"
   ]
  },
  {
   "cell_type": "markdown",
   "metadata": {},
   "source": [
    "## Import of Packages"
   ]
  },
  {
   "cell_type": "code",
   "execution_count": null,
   "metadata": {},
   "outputs": [],
   "source": [
    "# Import of Packages\n",
    "import math\n",
    "import numpy as np\n",
    "import pandas as pd\n",
    "import matplotlib.pyplot as plt\n",
    "import random"
   ]
  },
  {
   "cell_type": "markdown",
   "metadata": {},
   "source": [
    "# Import of Excel Data\n",
    "(General Format of Excel must be Headers followed by columns of Data)"
   ]
  },
  {
   "cell_type": "code",
   "execution_count": null,
   "metadata": {},
   "outputs": [],
   "source": [
    "# Reading the excel file\n",
    "df = pd.read_excel(\"Sample.xlsx\")\n",
    "# print(df)"
   ]
  },
  {
   "cell_type": "markdown",
   "metadata": {},
   "source": [
    "## Creating Scenarios\n",
    "Calculation of Driftrate Mu and Standart Deviation Sigma\n"
   ]
  },
  {
   "cell_type": "code",
   "execution_count": null,
   "metadata": {},
   "outputs": [],
   "source": [
    "Year = np.array(df.iloc[:, 0])\n",
    "Historic_Demand = np.array(df.iloc[:, 1])\n",
    "Annual_Change = np.array(df.iloc[:, 2])\n",
    "Percentage_Change = np.array(df.iloc[:, 3])\n",
    "Outliner = np.array(df.iloc[:, 4])\n",
    "Percentage_Change1 = np.array(df.iloc[:, 5])\n",
    "\n",
    "# Caluclation of the Estimated Percentage Drift Rate Mu:\n",
    "mu = np.nanmean(Percentage_Change1)\n",
    "print(\"Mu = \", mu)\n",
    "# Caluclation of the Estimated Percentage Standart Deviation Sigma:\n",
    "sigma = np.nanstd(Percentage_Change1)\n",
    "print(\"Simga = \", sigma)"
   ]
  },
  {
   "cell_type": "markdown",
   "metadata": {},
   "source": [
    "Creating a Defined Number of Forecasts and Ploting them"
   ]
  },
  {
   "cell_type": "code",
   "execution_count": null,
   "metadata": {},
   "outputs": [],
   "source": [
    "# Required Parameters\n",
    "# mu = 0.042754330256447565\n",
    "# sigma = 0.05891802084811409\n",
    "Dt0 = 22561132\n",
    "dt = 1\n",
    "# Time Horizon of Forecasts\n",
    "Fth = 50\n",
    "# Number of Forecasts\n",
    "Forecasts = 20\n",
    "\n",
    "# Importing the Functions File\n",
    "import Functions as fn\n",
    "\n",
    "# Callint the Scenario Creation Function\n",
    "Scenario = fn.Scenario_creation(mu, sigma, Dt0, dt, Fth, Forecasts)\n",
    "\n",
    "# Calling the Scenario Plotting Function\n",
    "fn.Scenario_plot(Scenario, Fth)"
   ]
  },
  {
   "cell_type": "markdown",
   "metadata": {},
   "source": [
    "## Calculation of the Traditional NPV\n"
   ]
  },
  {
   "cell_type": "markdown",
   "metadata": {},
   "source": [
    "Inputs for NPV Calculation"
   ]
  },
  {
   "cell_type": "code",
   "execution_count": null,
   "metadata": {},
   "outputs": [],
   "source": [
    "r_D = 0.03  # Revenues per Unit of Demand per Period\n",
    "r_K = 0.03  # Revenues per Unit of Capacity per Period\n",
    "co_K = 0.01  # Operational costs per unit of capacity per period\n",
    "co_D = 0.004  # Operational cost per unit of demand per period\n",
    "ci_K = 10  # Installation cost per unit of capacity\n",
    "discount = 0.05  # Discount factor\n",
    "EoS = 0.85  # EoS factor\n",
    "\n",
    "D = Scenario  # Assinging the Scenarios as Demand"
   ]
  },
  {
   "cell_type": "markdown",
   "metadata": {},
   "source": [
    "Creation of a Capacity Estimation"
   ]
  },
  {
   "cell_type": "code",
   "execution_count": null,
   "metadata": {},
   "outputs": [],
   "source": [
    "# Calculate a Mean Scenario as Estimation Vector\n",
    "meansvalues = np.mean(Scenario, axis=0)\n",
    "\n",
    "# Creation of a time vector\n",
    "t = np.arange(0, Fth, dt)\n",
    "\n",
    "# Assinging the Mean Sceanrio as Capacity Vector\n",
    "capacity_vector = meansvalues\n",
    "fn.Scenario_plot(capacity_vector, 50)"
   ]
  },
  {
   "cell_type": "code",
   "execution_count": null,
   "metadata": {},
   "outputs": [],
   "source": [
    "# Number of Capacity Changes\n",
    "num_steps = 10\n",
    "# Qunatify the nonlinear Capacity Vector into a Step Vector\n",
    "bin_size = len(capacity_vector) // num_steps\n",
    "staircase_vector = np.zeros(len(capacity_vector))\n",
    "for i in range(num_steps):\n",
    "    start_idx = i * bin_size\n",
    "    end_idx = (i + 1) * bin_size\n",
    "    if i == num_steps - 1:\n",
    "        end_idx = len(capacity_vector)\n",
    "    avg_value = np.mean(capacity_vector[start_idx:end_idx])\n",
    "    staircase_vector[start_idx:end_idx] = avg_value\n",
    "\n",
    "K = staircase_vector\n",
    "Capacity_plot = np.array([capacity_vector, staircase_vector])\n",
    "fn.Scenario_plot(Capacity_plot, 50)"
   ]
  },
  {
   "cell_type": "markdown",
   "metadata": {},
   "source": [
    "Calling the NPV Calculation Function"
   ]
  },
  {
   "cell_type": "code",
   "execution_count": null,
   "metadata": {},
   "outputs": [],
   "source": [
    "NPVs = fn.NPV_Calculation(D, K, t, r_D, r_K, co_K, co_D, ci_K, discount, EoS)\n",
    "print(\"NPVs = \", NPVs)"
   ]
  },
  {
   "cell_type": "markdown",
   "metadata": {},
   "source": [
    "Calculating the ENPV"
   ]
  },
  {
   "cell_type": "code",
   "execution_count": null,
   "metadata": {},
   "outputs": [],
   "source": [
    "ENPV = np.mean(NPVs)\n",
    "print(\"ENPV = \", ENPV)"
   ]
  },
  {
   "cell_type": "markdown",
   "metadata": {},
   "source": [
    "## Plotting Historic Data (For Reference Only)\n",
    "Plotting Excel Data (Specific to Sample Excel, all other Inputs need to be adjusted to it)"
   ]
  },
  {
   "cell_type": "code",
   "execution_count": null,
   "metadata": {},
   "outputs": [],
   "source": [
    "# # Plotting Excel Data (only specific to Test Excel, keys needs to be changed for other\n",
    "# # data)\n",
    "\n",
    "# plt.plot(\n",
    "#     Year,\n",
    "#     Historic_Demand,\n",
    "#     label=\"Line Plot\",\n",
    "#     color=\"blue\",\n",
    "#     marker=\"o\",\n",
    "# )\n",
    "# plt.grid(True)\n",
    "# plt.xlabel(\"Year\")\n",
    "# plt.ylabel(\"Passenger Numbers\")\n",
    "# plt.title(\"Demand for Zurich Airport\")\n",
    "# plt.legend()  # Display legend\n",
    "# plt.figure()\n",
    "\n",
    "# plt.plot(\n",
    "#     Year,\n",
    "#     Annual_Change,\n",
    "#     label=\"Line Plot\",\n",
    "#     color=\"blue\",\n",
    "#     marker=\"o\",\n",
    "# )\n",
    "# plt.grid(True)\n",
    "# plt.xlabel(\"Year\")\n",
    "# plt.ylabel(\"Passenger Numbers\")\n",
    "# plt.title(\"Annual Change of Passenger Demand\")\n",
    "# plt.legend()  # Display legend\n",
    "# plt.figure()\n",
    "\n",
    "# plt.plot(\n",
    "#     Year,\n",
    "#     Percentage_Change,\n",
    "#     label=\"Line Plot\",\n",
    "#     color=\"blue\",\n",
    "#     marker=\"o\",\n",
    "# )\n",
    "# plt.grid(True)\n",
    "# plt.xlabel(\"Year\")\n",
    "# plt.ylabel(\"Passenger Numbers\")\n",
    "# plt.title(\"Annual Percentage Change of Passenger Demand\")\n",
    "# plt.legend()  # Display legend\n",
    "# plt.figure()\n",
    "\n",
    "# plt.plot(\n",
    "#     Year,\n",
    "#     Percentage_Change,\n",
    "#     label=\"Line Plot\",\n",
    "#     color=\"blue\",\n",
    "#     marker=\"o\",\n",
    "# )\n",
    "# plt.grid(True)\n",
    "# plt.xlabel(\"Year\")\n",
    "# plt.ylabel(\"Passenger Numbers\")\n",
    "# plt.title(\"Annual Change of Passenger Demand Excluding Outlayers\")\n",
    "# plt.legend()  # Display legend\n",
    "# plt.figure()"
   ]
  }
 ],
 "metadata": {
  "kernelspec": {
   "display_name": ".venv",
   "language": "python",
   "name": "python3"
  },
  "language_info": {
   "codemirror_mode": {
    "name": "ipython",
    "version": 3
   },
   "file_extension": ".py",
   "mimetype": "text/x-python",
   "name": "python",
   "nbconvert_exporter": "python",
   "pygments_lexer": "ipython3",
   "version": "3.11.4"
  },
  "orig_nbformat": 4
 },
 "nbformat": 4,
 "nbformat_minor": 2
}
