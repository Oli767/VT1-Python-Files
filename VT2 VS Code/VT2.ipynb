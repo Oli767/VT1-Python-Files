{
 "cells": [
  {
   "cell_type": "code",
   "execution_count": 36,
   "metadata": {},
   "outputs": [],
   "source": [
    "# Import of Packages\n",
    "import numpy as np\n",
    "import pandas as pd\n",
    "import statistics as st\n",
    "import time\n",
    "\n",
    "# Importing the Functions File\n",
    "import Functions_VT2 as fn\n",
    "\n",
    "# Start of Timer to Measure Runtime\n",
    "start_time = time.time()"
   ]
  },
  {
   "cell_type": "markdown",
   "metadata": {},
   "source": [
    "### Stopping the Runtime"
   ]
  },
  {
   "cell_type": "code",
   "execution_count": 37,
   "metadata": {},
   "outputs": [
    {
     "name": "stdout",
     "output_type": "stream",
     "text": [
      "Total Runtime = 0.017895936965942383\n"
     ]
    }
   ],
   "source": [
    "end_time = time.time()\n",
    "\n",
    "# Calculate the Total Runtime\n",
    "total_run_time = end_time - start_time\n",
    "\n",
    "# Display the Total Runtime\n",
    "print(\"Total Runtime =\", total_run_time)"
   ]
  }
 ],
 "metadata": {
  "kernelspec": {
   "display_name": ".venv",
   "language": "python",
   "name": "python3"
  },
  "language_info": {
   "codemirror_mode": {
    "name": "ipython",
    "version": 3
   },
   "file_extension": ".py",
   "mimetype": "text/x-python",
   "name": "python",
   "nbconvert_exporter": "python",
   "pygments_lexer": "ipython3",
   "version": "3.11.4"
  }
 },
 "nbformat": 4,
 "nbformat_minor": 2
}
