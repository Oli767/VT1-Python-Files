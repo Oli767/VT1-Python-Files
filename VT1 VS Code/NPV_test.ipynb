{
 "cells": [
  {
   "cell_type": "code",
   "execution_count": 1,
   "metadata": {},
   "outputs": [],
   "source": [
    "# Import of Packages\n",
    "import math\n",
    "import numpy as np\n",
    "import pandas as pd\n",
    "import matplotlib.pyplot as plt\n",
    "import random\n",
    "import Functions as fn\n",
    "import statistics as stat"
   ]
  },
  {
   "cell_type": "code",
   "execution_count": 2,
   "metadata": {},
   "outputs": [],
   "source": [
    "r_D = 0.03  # Revenues per Unit of Demand per Period\n",
    "r_K = 0.03  # Revenues per Unit of Capacity per Period\n",
    "co_K = 0.01  # Operational costs per unit of capacity per period\n",
    "co_D = 0.004  # Operational cost per unit of demand per period\n",
    "ci_K = 10  # Installation cost per unit of capacity\n",
    "discount = 0.05  # Discount factor\n",
    "EoS = 0.85  # EoS factor"
   ]
  },
  {
   "cell_type": "code",
   "execution_count": 3,
   "metadata": {},
   "outputs": [],
   "source": [
    "Fth = 20\n",
    "dt = 1\n",
    "t = np.arange(0, Fth, dt)\n",
    "\n",
    "K = np.array(\n",
    "    [25, 25, 25, 25, 30, 30, 30, 30, 30, 40, 40, 40, 40, 40, 50, 50, 50, 50, 50, 50],\n",
    ")\n",
    "K = K * 1000000\n",
    "\n",
    "D = np.array(\n",
    "    [\n",
    "        [\n",
    "            25,\n",
    "            24,\n",
    "            26,\n",
    "            29,\n",
    "            31,\n",
    "            32,\n",
    "            30,\n",
    "            28,\n",
    "            31,\n",
    "            28,\n",
    "            31,\n",
    "            33,\n",
    "            36,\n",
    "            40,\n",
    "            41,\n",
    "            41,\n",
    "            40,\n",
    "            46,\n",
    "            53,\n",
    "            55,\n",
    "        ],\n",
    "        [\n",
    "            24,\n",
    "            27,\n",
    "            25,\n",
    "            25,\n",
    "            28,\n",
    "            33,\n",
    "            34,\n",
    "            34,\n",
    "            35,\n",
    "            37,\n",
    "            38,\n",
    "            39,\n",
    "            39,\n",
    "            42,\n",
    "            41,\n",
    "            48,\n",
    "            53,\n",
    "            55,\n",
    "            55,\n",
    "            60,\n",
    "        ],\n",
    "        [\n",
    "            22,\n",
    "            23,\n",
    "            25,\n",
    "            28,\n",
    "            30,\n",
    "            30,\n",
    "            29,\n",
    "            30,\n",
    "            30,\n",
    "            28,\n",
    "            31,\n",
    "            34,\n",
    "            36,\n",
    "            35,\n",
    "            38,\n",
    "            42,\n",
    "            43,\n",
    "            43,\n",
    "            44,\n",
    "            44,\n",
    "        ],\n",
    "    ]\n",
    ")\n",
    "\n",
    "D = D * 1000000"
   ]
  },
  {
   "cell_type": "code",
   "execution_count": 4,
   "metadata": {},
   "outputs": [
    {
     "name": "stdout",
     "output_type": "stream",
     "text": [
      "[6022359.19607384 7014611.31950841 5522037.97003573]\n"
     ]
    }
   ],
   "source": [
    "NPV = fn.NPV_Calculation(D, K, t, r_D, r_K, co_K, co_D, ci_K, discount, EoS)\n",
    "print(NPV)"
   ]
  }
 ],
 "metadata": {
  "kernelspec": {
   "display_name": ".venv",
   "language": "python",
   "name": "python3"
  },
  "language_info": {
   "codemirror_mode": {
    "name": "ipython",
    "version": 3
   },
   "file_extension": ".py",
   "mimetype": "text/x-python",
   "name": "python",
   "nbconvert_exporter": "python",
   "pygments_lexer": "ipython3",
   "version": "3.11.4"
  }
 },
 "nbformat": 4,
 "nbformat_minor": 2
}
